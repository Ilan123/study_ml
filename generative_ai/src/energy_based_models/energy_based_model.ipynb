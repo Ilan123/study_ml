{
 "cells": [
  {
   "cell_type": "code",
   "execution_count": 1,
   "id": "8bf70759",
   "metadata": {},
   "outputs": [
    {
     "data": {
      "text/plain": [
       "<torch._C.Generator at 0x738c4ff89190>"
      ]
     },
     "execution_count": 1,
     "metadata": {},
     "output_type": "execute_result"
    }
   ],
   "source": [
    "from Buffer import Buffer\n",
    "from LangevinSampler import LangevinSampler\n",
    "from Trainer import EnergyModelTrainer\n",
    "import torch\n",
    "from torchvision import datasets, transforms\n",
    "from torch.utils.data import DataLoader, Subset\n",
    "from typing import Tuple, Union, Callable\n",
    "import copy\n",
    "from matplotlib import pyplot as plt\n",
    "\n",
    "import sys\n",
    "import os\n",
    "project_root = os.path.abspath(os.path.join(os.getcwd(), '..'))\n",
    "sys.path.append(project_root)\n",
    "\n",
    "from models.MLP import MLP\n",
    "\n",
    "torch.backends.cudnn.deterministic = True\n",
    "torch.backends.cudnn.benchmark = False\n",
    "torch.manual_seed(42)"
   ]
  },
  {
   "cell_type": "code",
   "execution_count": 2,
   "id": "b16257ac",
   "metadata": {},
   "outputs": [
    {
     "name": "stdout",
     "output_type": "stream",
     "text": [
      "Using cuda device\n"
     ]
    }
   ],
   "source": [
    "device = torch.accelerator.current_accelerator().type if torch.accelerator.is_available() else \"cpu\"\n",
    "print(f\"Using {device} device\")"
   ]
  },
  {
   "cell_type": "code",
   "execution_count": 3,
   "id": "8a7ef806",
   "metadata": {},
   "outputs": [],
   "source": [
    "transform = transforms.Compose(\n",
    "    [transforms.ToTensor(),\n",
    "    transforms.Normalize((0.5,), (0.5,))]\n",
    ")"
   ]
  },
  {
   "cell_type": "code",
   "execution_count": 4,
   "id": "aa17413d",
   "metadata": {},
   "outputs": [],
   "source": [
    "# Download training data from open datasets.\n",
    "training_data = datasets.MNIST(\n",
    "    root='../../data',\n",
    "    train=True,\n",
    "    download=True,\n",
    "    transform=transform,\n",
    ")\n",
    "\n",
    "# Download test data from open datasets.\n",
    "test_data = datasets.MNIST(\n",
    "    root='../../data',\n",
    "    train=False,\n",
    "    download=True,\n",
    "    transform=transform,\n",
    ")"
   ]
  },
  {
   "cell_type": "code",
   "execution_count": 5,
   "id": "049f590a",
   "metadata": {},
   "outputs": [],
   "source": [
    "# Filter for single class (T-shirts/tops) for simpler learning\n",
    "target_label = 0\n",
    "training_data_incides = torch.where(training_data.targets == target_label)[0]\n",
    "test_data_incides = torch.where(test_data.targets == target_label)[0]\n",
    "\n",
    "training_data = Subset(training_data, training_data_incides)\n",
    "test_data = Subset(test_data, test_data_incides)"
   ]
  },
  {
   "cell_type": "code",
   "execution_count": 6,
   "id": "4d9d0cc8",
   "metadata": {},
   "outputs": [],
   "source": [
    "# Train/validation split\n",
    "val_fraction = 0.1\n",
    "dataset_size = len(training_data)\n",
    "val_size = int(val_fraction * dataset_size)\n",
    "train_size = dataset_size - val_size\n",
    "\n",
    "# Create a reproducible shuffled list of indices\n",
    "generator = torch.Generator().manual_seed(42)\n",
    "indices = torch.randperm(dataset_size, generator=generator).tolist()\n",
    "\n",
    "# Split indices for train and validation\n",
    "train_indices = indices[:train_size]\n",
    "val_indices = indices[train_size:]\n",
    "\n",
    "# Wrap Subsets for train and validation datasets\n",
    "train_data = Subset(training_data, train_indices)\n",
    "val_data = Subset(training_data, val_indices)"
   ]
  },
  {
   "cell_type": "code",
   "execution_count": 7,
   "id": "d6d3c029",
   "metadata": {},
   "outputs": [
    {
     "name": "stdout",
     "output_type": "stream",
     "text": [
      "Shape of X [N, C, H, W]: torch.Size([128, 1, 28, 28])\n",
      "Shape of y: torch.Size([128]) torch.int64\n",
      "Training batches: 47\n",
      "Test batches: 8\n"
     ]
    }
   ],
   "source": [
    "batch_size = 128\n",
    "\n",
    "# Create data loaders.\n",
    "train_dataloader = DataLoader(training_data, batch_size=batch_size, shuffle=True, num_workers=4, pin_memory=True)\n",
    "val_dataloader = DataLoader(val_data, batch_size=batch_size)\n",
    "test_dataloader = DataLoader(test_data, batch_size=batch_size)\n",
    "\n",
    "for X, y in test_dataloader:\n",
    "    print(f\"Shape of X [N, C, H, W]: {X.shape}\")\n",
    "    print(f\"Shape of y: {y.shape} {y.dtype}\")\n",
    "    break\n",
    "\n",
    "print(f\"Training batches: {len(train_dataloader)}\")\n",
    "print(f\"Test batches: {len(test_dataloader)}\")"
   ]
  },
  {
   "cell_type": "code",
   "execution_count": 8,
   "id": "a1e20238",
   "metadata": {},
   "outputs": [],
   "source": [
    "model = MLP([784, 512, 512, 1], device = device, flat=True)\n",
    "buffer = Buffer(256, [1, 28, 28], 0.05, device)\n",
    "sampler = LangevinSampler(model, 60, 10, 5e-3, buffer)"
   ]
  },
  {
   "cell_type": "code",
   "execution_count": 9,
   "id": "ee672a93",
   "metadata": {},
   "outputs": [],
   "source": [
    "model_save_path = '../../models/ebm.pth'\n",
    "trainer = EnergyModelTrainer(model, 1e-1, 5e-3, sampler, device, 1e-4, 10, model_save_path)"
   ]
  },
  {
   "cell_type": "code",
   "execution_count": 10,
   "id": "246cebd0",
   "metadata": {},
   "outputs": [
    {
     "name": "stderr",
     "output_type": "stream",
     "text": [
      "100%|██████████| 47/47 [00:02<00:00, 23.33it/s]\n",
      "100%|██████████| 5/5 [00:00<00:00, 25.46it/s]\n"
     ]
    },
    {
     "name": "stdout",
     "output_type": "stream",
     "text": [
      "Epoch 1 completed. Train: Loss: 0.10525, CD Loss: -0.03668, Reg Loss: 0.14193, E_real: -0.8224, E_fake: -0.7857,\n",
      "Val: Loss: -0.05467, CD Loss: -0.18510, Reg Loss: 0.13043, E_real: -0.8908, E_fake: -0.7057, E_rand: 0.5599, # NEW BEST MODEL #\n"
     ]
    },
    {
     "name": "stderr",
     "output_type": "stream",
     "text": [
      "100%|██████████| 47/47 [00:01<00:00, 27.93it/s]\n",
      "100%|██████████| 5/5 [00:00<00:00, 25.60it/s]\n"
     ]
    },
    {
     "name": "stdout",
     "output_type": "stream",
     "text": [
      "Epoch 2 completed. Train: Loss: -0.10067, CD Loss: -0.19559, Reg Loss: 0.09492, E_real: -0.7724, E_fake: -0.5768,\n",
      "Val: Loss: -0.06871, CD Loss: -0.18190, Reg Loss: 0.11319, E_real: -0.8336, E_fake: -0.6517, E_rand: 0.5834, # NEW BEST MODEL #\n"
     ]
    },
    {
     "name": "stderr",
     "output_type": "stream",
     "text": [
      "100%|██████████| 47/47 [00:01<00:00, 27.04it/s]\n",
      "100%|██████████| 5/5 [00:00<00:00, 26.48it/s]\n"
     ]
    },
    {
     "name": "stdout",
     "output_type": "stream",
     "text": [
      "Epoch 3 completed. Train: Loss: -0.10517, CD Loss: -0.19191, Reg Loss: 0.08674, E_real: -0.7384, E_fake: -0.5465,\n",
      "Val: Loss: -0.12997, CD Loss: -0.18439, Reg Loss: 0.05442, E_real: -0.5992, E_fake: -0.4149, E_rand: 0.6406, # NEW BEST MODEL #\n"
     ]
    },
    {
     "name": "stderr",
     "output_type": "stream",
     "text": [
      "100%|██████████| 47/47 [00:01<00:00, 26.18it/s]\n",
      "100%|██████████| 5/5 [00:00<00:00, 23.48it/s]\n"
     ]
    },
    {
     "name": "stdout",
     "output_type": "stream",
     "text": [
      "Epoch 4 completed. Train: Loss: -0.10975, CD Loss: -0.18766, Reg Loss: 0.07792, E_real: -0.7005, E_fake: -0.5129,\n",
      "Val: Loss: -0.05173, CD Loss: -0.12032, Reg Loss: 0.06859, E_real: -0.6336, E_fake: -0.5132, E_rand: 0.7291, (Best: -0.12997 at epoch 3)\n"
     ]
    },
    {
     "name": "stderr",
     "output_type": "stream",
     "text": [
      "100%|██████████| 47/47 [00:01<00:00, 27.29it/s]\n",
      "100%|██████████| 5/5 [00:00<00:00, 24.31it/s]\n"
     ]
    },
    {
     "name": "stdout",
     "output_type": "stream",
     "text": [
      "Epoch 5 completed. Train: Loss: -0.11151, CD Loss: -0.18403, Reg Loss: 0.07253, E_real: -0.6743, E_fake: -0.4902,\n",
      "Val: Loss: -0.10558, CD Loss: -0.16648, Reg Loss: 0.06090, E_real: -0.6199, E_fake: -0.4534, E_rand: 0.8294, (Best: -0.12997 at epoch 3)\n"
     ]
    },
    {
     "name": "stderr",
     "output_type": "stream",
     "text": [
      "100%|██████████| 47/47 [00:01<00:00, 28.07it/s]\n",
      "100%|██████████| 5/5 [00:00<00:00, 25.61it/s]\n"
     ]
    },
    {
     "name": "stdout",
     "output_type": "stream",
     "text": [
      "Epoch 6 completed. Train: Loss: -0.11279, CD Loss: -0.17647, Reg Loss: 0.06368, E_real: -0.6318, E_fake: -0.4553,\n",
      "Val: Loss: -0.04474, CD Loss: -0.12511, Reg Loss: 0.08037, E_real: -0.6866, E_fake: -0.5615, E_rand: 0.8956, (Best: -0.12997 at epoch 3)\n"
     ]
    },
    {
     "name": "stderr",
     "output_type": "stream",
     "text": [
      "100%|██████████| 47/47 [00:01<00:00, 28.10it/s]\n",
      "100%|██████████| 5/5 [00:00<00:00, 25.67it/s]\n"
     ]
    },
    {
     "name": "stdout",
     "output_type": "stream",
     "text": [
      "Epoch 7 completed. Train: Loss: -0.11481, CD Loss: -0.17458, Reg Loss: 0.05976, E_real: -0.6111, E_fake: -0.4365,\n",
      "Val: Loss: -0.08881, CD Loss: -0.15806, Reg Loss: 0.06926, E_real: -0.6564, E_fake: -0.4984, E_rand: 1.0032, (Best: -0.12997 at epoch 3)\n"
     ]
    },
    {
     "name": "stderr",
     "output_type": "stream",
     "text": [
      "100%|██████████| 47/47 [00:01<00:00, 24.76it/s]\n",
      "100%|██████████| 5/5 [00:00<00:00, 23.02it/s]\n"
     ]
    },
    {
     "name": "stdout",
     "output_type": "stream",
     "text": [
      "Epoch 8 completed. Train: Loss: -0.12279, CD Loss: -0.18138, Reg Loss: 0.05858, E_real: -0.6008, E_fake: -0.4194,\n",
      "Val: Loss: -0.10380, CD Loss: -0.13653, Reg Loss: 0.03273, E_real: -0.4542, E_fake: -0.3177, E_rand: 1.0800, (Best: -0.12997 at epoch 3)\n"
     ]
    },
    {
     "name": "stderr",
     "output_type": "stream",
     "text": [
      "100%|██████████| 47/47 [00:01<00:00, 26.54it/s]\n",
      "100%|██████████| 5/5 [00:00<00:00, 23.53it/s]\n"
     ]
    },
    {
     "name": "stdout",
     "output_type": "stream",
     "text": [
      "Epoch 9 completed. Train: Loss: -0.12074, CD Loss: -0.17310, Reg Loss: 0.05236, E_real: -0.5619, E_fake: -0.3887,\n",
      "Val: Loss: -0.10494, CD Loss: -0.15764, Reg Loss: 0.05269, E_real: -0.5768, E_fake: -0.4192, E_rand: 1.2385, (Best: -0.12997 at epoch 3)\n"
     ]
    },
    {
     "name": "stderr",
     "output_type": "stream",
     "text": [
      "100%|██████████| 47/47 [00:01<00:00, 26.19it/s]\n",
      "100%|██████████| 5/5 [00:00<00:00, 23.73it/s]\n"
     ]
    },
    {
     "name": "stdout",
     "output_type": "stream",
     "text": [
      "Epoch 10 completed. Train: Loss: -0.12619, CD Loss: -0.17390, Reg Loss: 0.04771, E_real: -0.5295, E_fake: -0.3556,\n",
      "Val: Loss: -0.07606, CD Loss: -0.15766, Reg Loss: 0.08160, E_real: -0.7068, E_fake: -0.5491, E_rand: 1.3919, (Best: -0.12997 at epoch 3)\n"
     ]
    },
    {
     "data": {
      "image/png": "[encoded data removed]",
      "text/plain": [
       "<Figure size 800x800 with 16 Axes>"
      ]
     },
     "metadata": {},
     "output_type": "display_data"
    },
    {
     "name": "stderr",
     "output_type": "stream",
     "text": [
      "100%|██████████| 47/47 [00:01<00:00, 24.65it/s]\n",
      "100%|██████████| 5/5 [00:00<00:00, 24.56it/s]\n"
     ]
    },
    {
     "name": "stdout",
     "output_type": "stream",
     "text": [
      "Epoch 11 completed. Train: Loss: -0.12658, CD Loss: -0.17352, Reg Loss: 0.04695, E_real: -0.5166, E_fake: -0.3431,\n",
      "Val: Loss: -0.12190, CD Loss: -0.14734, Reg Loss: 0.02545, E_real: -0.3995, E_fake: -0.2522, E_rand: 1.4766, (Best: -0.12997 at epoch 3)\n"
     ]
    },
    {
     "name": "stderr",
     "output_type": "stream",
     "text": [
      "100%|██████████| 47/47 [00:01<00:00, 23.93it/s]\n",
      "100%|██████████| 5/5 [00:00<00:00, 21.61it/s]\n"
     ]
    },
    {
     "name": "stdout",
     "output_type": "stream",
     "text": [
      "Epoch 12 completed. Train: Loss: -0.12888, CD Loss: -0.17096, Reg Loss: 0.04208, E_real: -0.4834, E_fake: -0.3124,\n",
      "Val: Loss: -0.05359, CD Loss: -0.11775, Reg Loss: 0.06416, E_real: -0.6132, E_fake: -0.4954, E_rand: 1.6388, (Best: -0.12997 at epoch 3)\n"
     ]
    },
    {
     "name": "stderr",
     "output_type": "stream",
     "text": [
      "100%|██████████| 47/47 [00:01<00:00, 24.23it/s]\n",
      "100%|██████████| 5/5 [00:00<00:00, 25.39it/s]\n"
     ]
    },
    {
     "name": "stdout",
     "output_type": "stream",
     "text": [
      "Epoch 13 completed. Train: Loss: -0.13517, CD Loss: -0.17805, Reg Loss: 0.04288, E_real: -0.4758, E_fake: -0.2978,\n",
      "Val: Loss: -0.16538, CD Loss: -0.17774, Reg Loss: 0.01236, E_real: -0.2688, E_fake: -0.0911, E_rand: 1.7481, # NEW BEST MODEL #\n"
     ]
    },
    {
     "name": "stderr",
     "output_type": "stream",
     "text": [
      "100%|██████████| 47/47 [00:01<00:00, 25.89it/s]\n",
      "100%|██████████| 5/5 [00:00<00:00, 23.95it/s]\n"
     ]
    },
    {
     "name": "stdout",
     "output_type": "stream",
     "text": [
      "Epoch 14 completed. Train: Loss: -0.13579, CD Loss: -0.17352, Reg Loss: 0.03774, E_real: -0.4391, E_fake: -0.2655,\n",
      "Val: Loss: -0.02509, CD Loss: -0.09052, Reg Loss: 0.06543, E_real: -0.6078, E_fake: -0.5172, E_rand: 1.9292, (Best: -0.16538 at epoch 13)\n"
     ]
    },
    {
     "name": "stderr",
     "output_type": "stream",
     "text": [
      "100%|██████████| 47/47 [00:01<00:00, 27.49it/s]\n",
      "100%|██████████| 5/5 [00:00<00:00, 26.39it/s]\n"
     ]
    },
    {
     "name": "stdout",
     "output_type": "stream",
     "text": [
      "Epoch 15 completed. Train: Loss: -0.12857, CD Loss: -0.16607, Reg Loss: 0.03750, E_real: -0.4317, E_fake: -0.2656,\n",
      "Val: Loss: -0.00650, CD Loss: -0.07763, Reg Loss: 0.07113, E_real: -0.6265, E_fake: -0.5488, E_rand: 2.0462, (Best: -0.16538 at epoch 13)\n"
     ]
    },
    {
     "name": "stderr",
     "output_type": "stream",
     "text": [
      "100%|██████████| 47/47 [00:01<00:00, 26.89it/s]\n",
      "100%|██████████| 5/5 [00:00<00:00, 24.20it/s]\n"
     ]
    },
    {
     "name": "stdout",
     "output_type": "stream",
     "text": [
      "Epoch 16 completed. Train: Loss: -0.13294, CD Loss: -0.17051, Reg Loss: 0.03757, E_real: -0.4210, E_fake: -0.2505,\n",
      "Val: Loss: -0.03936, CD Loss: -0.10851, Reg Loss: 0.06916, E_real: -0.6341, E_fake: -0.5256, E_rand: 2.2321, (Best: -0.16538 at epoch 13)\n"
     ]
    },
    {
     "name": "stderr",
     "output_type": "stream",
     "text": [
      "100%|██████████| 47/47 [00:01<00:00, 25.38it/s]\n",
      "100%|██████████| 5/5 [00:00<00:00, 24.05it/s]\n"
     ]
    },
    {
     "name": "stdout",
     "output_type": "stream",
     "text": [
      "Epoch 17 completed. Train: Loss: -0.13317, CD Loss: -0.16844, Reg Loss: 0.03527, E_real: -0.3941, E_fake: -0.2256,\n",
      "Val: Loss: -0.15847, CD Loss: -0.16670, Reg Loss: 0.00823, E_real: -0.1831, E_fake: -0.0164, E_rand: 2.2798, (Best: -0.16538 at epoch 13)\n"
     ]
    },
    {
     "name": "stderr",
     "output_type": "stream",
     "text": [
      "100%|██████████| 47/47 [00:01<00:00, 25.95it/s]\n",
      "100%|██████████| 5/5 [00:00<00:00, 23.45it/s]\n"
     ]
    },
    {
     "name": "stdout",
     "output_type": "stream",
     "text": [
      "Epoch 18 completed. Train: Loss: -0.13106, CD Loss: -0.16280, Reg Loss: 0.03174, E_real: -0.3677, E_fake: -0.2049,\n",
      "Val: Loss: -0.08523, CD Loss: -0.13781, Reg Loss: 0.05257, E_real: -0.5738, E_fake: -0.4360, E_rand: 2.4812, (Best: -0.16538 at epoch 13)\n"
     ]
    },
    {
     "name": "stderr",
     "output_type": "stream",
     "text": [
      "100%|██████████| 47/47 [00:01<00:00, 25.62it/s]\n",
      "100%|██████████| 5/5 [00:00<00:00, 23.80it/s]\n"
     ]
    },
    {
     "name": "stdout",
     "output_type": "stream",
     "text": [
      "Epoch 19 completed. Train: Loss: -0.12821, CD Loss: -0.15988, Reg Loss: 0.03167, E_real: -0.3601, E_fake: -0.2003,\n",
      "Val: Loss: -0.18400, CD Loss: -0.19107, Reg Loss: 0.00708, E_real: -0.1420, E_fake: 0.0490, E_rand: 2.4828, # NEW BEST MODEL #\n"
     ]
    },
    {
     "name": "stderr",
     "output_type": "stream",
     "text": [
      "100%|██████████| 47/47 [00:01<00:00, 24.19it/s]\n",
      "100%|██████████| 5/5 [00:00<00:00, 22.33it/s]\n"
     ]
    },
    {
     "name": "stdout",
     "output_type": "stream",
     "text": [
      "Epoch 20 completed. Train: Loss: -0.13832, CD Loss: -0.16677, Reg Loss: 0.02845, E_real: -0.3169, E_fake: -0.1501,\n",
      "Val: Loss: -0.04762, CD Loss: -0.09562, Reg Loss: 0.04800, E_real: -0.5207, E_fake: -0.4251, E_rand: 2.7124, (Best: -0.18400 at epoch 19)\n"
     ]
    },
    {
     "data": {
      "image/png": "[encoded data removed]",
      "text/plain": [
       "<Figure size 800x800 with 16 Axes>"
      ]
     },
     "metadata": {},
     "output_type": "display_data"
    },
    {
     "name": "stderr",
     "output_type": "stream",
     "text": [
      "100%|██████████| 47/47 [00:01<00:00, 24.41it/s]\n",
      "100%|██████████| 5/5 [00:00<00:00, 24.20it/s]\n"
     ]
    },
    {
     "name": "stdout",
     "output_type": "stream",
     "text": [
      "Epoch 21 completed. Train: Loss: -0.12589, CD Loss: -0.15358, Reg Loss: 0.02770, E_real: -0.3255, E_fake: -0.1719,\n",
      "Val: Loss: -0.17654, CD Loss: -0.18407, Reg Loss: 0.00753, E_real: -0.0758, E_fake: 0.1083, E_rand: 2.7032, (Best: -0.18400 at epoch 19)\n"
     ]
    },
    {
     "name": "stderr",
     "output_type": "stream",
     "text": [
      "100%|██████████| 47/47 [00:01<00:00, 26.40it/s]\n",
      "100%|██████████| 5/5 [00:00<00:00, 24.35it/s]\n"
     ]
    },
    {
     "name": "stdout",
     "output_type": "stream",
     "text": [
      "Epoch 22 completed. Train: Loss: -0.12903, CD Loss: -0.15736, Reg Loss: 0.02833, E_real: -0.3158, E_fake: -0.1584,\n",
      "Val: Loss: -0.04563, CD Loss: -0.08587, Reg Loss: 0.04023, E_real: -0.4818, E_fake: -0.3959, E_rand: 2.9302, (Best: -0.18400 at epoch 19)\n"
     ]
    },
    {
     "name": "stderr",
     "output_type": "stream",
     "text": [
      "100%|██████████| 47/47 [00:01<00:00, 25.92it/s]\n",
      "100%|██████████| 5/5 [00:00<00:00, 24.46it/s]\n"
     ]
    },
    {
     "name": "stdout",
     "output_type": "stream",
     "text": [
      "Epoch 23 completed. Train: Loss: -0.12036, CD Loss: -0.14686, Reg Loss: 0.02650, E_real: -0.3172, E_fake: -0.1703,\n",
      "Val: Loss: -0.18550, CD Loss: -0.19743, Reg Loss: 0.01192, E_real: -0.0678, E_fake: 0.1296, E_rand: 2.9179, # NEW BEST MODEL #\n"
     ]
    },
    {
     "name": "stderr",
     "output_type": "stream",
     "text": [
      "100%|██████████| 47/47 [00:01<00:00, 27.36it/s]\n",
      "100%|██████████| 5/5 [00:00<00:00, 25.83it/s]\n"
     ]
    },
    {
     "name": "stdout",
     "output_type": "stream",
     "text": [
      "Epoch 24 completed. Train: Loss: -0.13161, CD Loss: -0.15658, Reg Loss: 0.02497, E_real: -0.2783, E_fake: -0.1217,\n",
      "Val: Loss: -0.05837, CD Loss: -0.10346, Reg Loss: 0.04510, E_real: -0.5175, E_fake: -0.4140, E_rand: 3.1179, (Best: -0.18550 at epoch 23)\n"
     ]
    },
    {
     "name": "stderr",
     "output_type": "stream",
     "text": [
      "100%|██████████| 47/47 [00:01<00:00, 26.32it/s]\n",
      "100%|██████████| 5/5 [00:00<00:00, 23.02it/s]\n"
     ]
    },
    {
     "name": "stdout",
     "output_type": "stream",
     "text": [
      "Epoch 25 completed. Train: Loss: -0.11757, CD Loss: -0.14361, Reg Loss: 0.02604, E_real: -0.2965, E_fake: -0.1529,\n",
      "Val: Loss: -0.09499, CD Loss: -0.10408, Reg Loss: 0.00909, E_real: -0.2070, E_fake: -0.1030, E_rand: 3.1621, (Best: -0.18550 at epoch 23)\n"
     ]
    },
    {
     "name": "stderr",
     "output_type": "stream",
     "text": [
      "100%|██████████| 47/47 [00:01<00:00, 26.11it/s]\n",
      "100%|██████████| 5/5 [00:00<00:00, 23.70it/s]\n"
     ]
    },
    {
     "name": "stdout",
     "output_type": "stream",
     "text": [
      "Epoch 26 completed. Train: Loss: -0.12001, CD Loss: -0.14288, Reg Loss: 0.02287, E_real: -0.2702, E_fake: -0.1273,\n",
      "Val: Loss: -0.08710, CD Loss: -0.12145, Reg Loss: 0.03435, E_real: -0.4673, E_fake: -0.3458, E_rand: 3.3131, (Best: -0.18550 at epoch 23)\n"
     ]
    },
    {
     "name": "stderr",
     "output_type": "stream",
     "text": [
      "100%|██████████| 47/47 [00:01<00:00, 26.44it/s]\n",
      "100%|██████████| 5/5 [00:00<00:00, 25.57it/s]\n"
     ]
    },
    {
     "name": "stdout",
     "output_type": "stream",
     "text": [
      "Epoch 27 completed. Train: Loss: -0.12092, CD Loss: -0.14272, Reg Loss: 0.02180, E_real: -0.2530, E_fake: -0.1103,\n",
      "Val: Loss: -0.15693, CD Loss: -0.16549, Reg Loss: 0.00856, E_real: -0.0186, E_fake: 0.1469, E_rand: 3.2666, (Best: -0.18550 at epoch 23)\n"
     ]
    },
    {
     "name": "stderr",
     "output_type": "stream",
     "text": [
      "100%|██████████| 47/47 [00:01<00:00, 28.18it/s]\n",
      "100%|██████████| 5/5 [00:00<00:00, 23.41it/s]\n"
     ]
    },
    {
     "name": "stdout",
     "output_type": "stream",
     "text": [
      "Epoch 28 completed. Train: Loss: -0.12642, CD Loss: -0.15201, Reg Loss: 0.02559, E_real: -0.2656, E_fake: -0.1136,\n",
      "Val: Loss: -0.06438, CD Loss: -0.09553, Reg Loss: 0.03116, E_real: -0.4299, E_fake: -0.3344, E_rand: 3.4959, (Best: -0.18550 at epoch 23)\n"
     ]
    },
    {
     "name": "stderr",
     "output_type": "stream",
     "text": [
      "100%|██████████| 47/47 [00:01<00:00, 28.97it/s]\n",
      "100%|██████████| 5/5 [00:00<00:00, 27.42it/s]\n"
     ]
    },
    {
     "name": "stdout",
     "output_type": "stream",
     "text": [
      "Epoch 29 completed. Train: Loss: -0.12115, CD Loss: -0.14288, Reg Loss: 0.02172, E_real: -0.2409, E_fake: -0.0980,\n",
      "Val: Loss: -0.06670, CD Loss: -0.07102, Reg Loss: 0.00432, E_real: -0.0283, E_fake: 0.0427, E_rand: 3.4516, (Best: -0.18550 at epoch 23)\n"
     ]
    },
    {
     "name": "stderr",
     "output_type": "stream",
     "text": [
      "100%|██████████| 47/47 [00:01<00:00, 27.59it/s]\n",
      "100%|██████████| 5/5 [00:00<00:00, 25.25it/s]\n"
     ]
    },
    {
     "name": "stdout",
     "output_type": "stream",
     "text": [
      "Epoch 30 completed. Train: Loss: -0.11511, CD Loss: -0.13451, Reg Loss: 0.01940, E_real: -0.2303, E_fake: -0.0958,\n",
      "Val: Loss: -0.08020, CD Loss: -0.08780, Reg Loss: 0.00760, E_real: -0.1347, E_fake: -0.0469, E_rand: 3.5844, (Best: -0.18550 at epoch 23)\n"
     ]
    },
    {
     "data": {
      "image/png": "[encoded data removed]",
      "text/plain": [
       "<Figure size 800x800 with 16 Axes>"
      ]
     },
     "metadata": {},
     "output_type": "display_data"
    },
    {
     "name": "stderr",
     "output_type": "stream",
     "text": [
      "100%|██████████| 47/47 [00:01<00:00, 27.62it/s]\n",
      "100%|██████████| 5/5 [00:00<00:00, 25.17it/s]\n"
     ]
    },
    {
     "name": "stdout",
     "output_type": "stream",
     "text": [
      "Epoch 31 completed. Train: Loss: -0.12104, CD Loss: -0.14063, Reg Loss: 0.01959, E_real: -0.2230, E_fake: -0.0824,\n",
      "Val: Loss: -0.02863, CD Loss: -0.06234, Reg Loss: 0.03370, E_real: -0.4295, E_fake: -0.3671, E_rand: 3.6776, (Best: -0.18550 at epoch 23)\n"
     ]
    },
    {
     "name": "stderr",
     "output_type": "stream",
     "text": [
      "100%|██████████| 47/47 [00:01<00:00, 25.93it/s]\n",
      "100%|██████████| 5/5 [00:00<00:00, 25.79it/s]\n"
     ]
    },
    {
     "name": "stdout",
     "output_type": "stream",
     "text": [
      "Epoch 32 completed. Train: Loss: -0.10933, CD Loss: -0.12774, Reg Loss: 0.01840, E_real: -0.2293, E_fake: -0.1015,\n",
      "Val: Loss: -0.11266, CD Loss: -0.11686, Reg Loss: 0.00420, E_real: -0.0649, E_fake: 0.0520, E_rand: 3.6596, (Best: -0.18550 at epoch 23)\n"
     ]
    },
    {
     "name": "stderr",
     "output_type": "stream",
     "text": [
      "100%|██████████| 47/47 [00:01<00:00, 26.97it/s]\n",
      "100%|██████████| 5/5 [00:00<00:00, 23.74it/s]"
     ]
    },
    {
     "name": "stdout",
     "output_type": "stream",
     "text": [
      "Epoch 33 completed. Train: Loss: -0.11326, CD Loss: -0.12999, Reg Loss: 0.01673, E_real: -0.1985, E_fake: -0.0685,\n",
      "Val: Loss: -0.07118, CD Loss: -0.09208, Reg Loss: 0.02090, E_real: -0.3546, E_fake: -0.2626, E_rand: 3.7848, (Best: -0.18550 at epoch 23)\n",
      "\n",
      "Early stopping triggered after 10 epochs without improvement.\n",
      "Best validation loss: -0.1855 at epoch 23\n"
     ]
    },
    {
     "name": "stderr",
     "output_type": "stream",
     "text": [
      "\n"
     ]
    },
    {
     "data": {
      "text/plain": [
       "([0.10525468625920884,\n",
       "  -0.10067093689390953,\n",
       "  -0.10517347366251845,\n",
       "  -0.10974595442097237,\n",
       "  -0.11150924005406967,\n",
       "  -0.11278682233805352,\n",
       "  -0.11481293909093167,\n",
       "  -0.12279357872110733,\n",
       "  -0.12074407047413765,\n",
       "  -0.12618876565644083,\n",
       "  -0.12657567335570113,\n",
       "  -0.12887728071593224,\n",
       "  -0.13517485368759075,\n",
       "  -0.13578538089356523,\n",
       "  -0.12856952425964335,\n",
       "  -0.13293504651556623,\n",
       "  -0.13316652693964065,\n",
       "  -0.13106389732119886,\n",
       "  -0.12820732070410507,\n",
       "  -0.13832033806024713,\n",
       "  -0.1258864442401744,\n",
       "  -0.1290256792402014,\n",
       "  -0.12035913115486185,\n",
       "  -0.13160690887177245,\n",
       "  -0.11756751939971397,\n",
       "  -0.12000951820865591,\n",
       "  -0.12091982348802242,\n",
       "  -0.12641764788868579,\n",
       "  -0.12115100299582836,\n",
       "  -0.11511269429738218,\n",
       "  -0.12103795593089246,\n",
       "  -0.10933260722680295,\n",
       "  -0.11326294566722626],\n",
       " [-0.05467186570167541,\n",
       "  -0.06871143728494644,\n",
       "  -0.12997207641601563,\n",
       "  -0.051730044186115265,\n",
       "  -0.10557883232831955,\n",
       "  -0.0447361633181572,\n",
       "  -0.08880652338266373,\n",
       "  -0.10380041748285293,\n",
       "  -0.10494391173124314,\n",
       "  -0.0760637491941452,\n",
       "  -0.1218978375196457,\n",
       "  -0.05359003990888596,\n",
       "  -0.16537940502166748,\n",
       "  -0.025091402232646942,\n",
       "  -0.006500950455665589,\n",
       "  -0.039357264339923856,\n",
       "  -0.1584669232368469,\n",
       "  -0.08523336201906204,\n",
       "  -0.18399550318717955,\n",
       "  -0.0476197250187397,\n",
       "  -0.1765407532453537,\n",
       "  -0.04563423171639443,\n",
       "  -0.18550469875335693,\n",
       "  -0.05836778804659844,\n",
       "  -0.09499368816614151,\n",
       "  -0.0871031254529953,\n",
       "  -0.15693058967590331,\n",
       "  -0.06437913402915,\n",
       "  -0.06669946126639843,\n",
       "  -0.08020051866769791,\n",
       "  -0.028633656352758406,\n",
       "  -0.11265762746334076,\n",
       "  -0.07117869853973388])"
      ]
     },
     "execution_count": 10,
     "metadata": {},
     "output_type": "execute_result"
    }
   ],
   "source": [
    "trainer.train(train_dataloader, val_dataloader, num_epochs=40)"
   ]
  }
 ],
 "metadata": {
  "kernelspec": {
   "display_name": "base",
   "language": "python",
   "name": "python3"
  },
  "language_info": {
   "codemirror_mode": {
    "name": "ipython",
    "version": 3
   },
   "file_extension": ".py",
   "mimetype": "text/x-python",
   "name": "python",
   "nbconvert_exporter": "python",
   "pygments_lexer": "ipython3",
   "version": "3.11.13"
  }
 },
 "nbformat": 4,
 "nbformat_minor": 5
}
